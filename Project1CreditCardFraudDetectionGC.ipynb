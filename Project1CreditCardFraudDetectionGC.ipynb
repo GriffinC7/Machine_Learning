{
  "cells": [
    {
      "cell_type": "markdown",
      "metadata": {
        "id": "d2vkGZLDgWr_"
      },
      "source": [
        "# Project 1: Credit Card Fraud Detection\n",
        "The total score for this project is 35. It will contribute 10 out of 100 in our final score. The tentative deadline for the assignment will be April 5th, 9:00 pm."
      ]
    },
    {
      "cell_type": "code",
      "execution_count": null,
      "metadata": {
        "id": "TKYnH4GWdyFy"
      },
      "outputs": [],
      "source": [
        "from google.colab import files\n",
        "upload = files.upload()"
      ]
    },
    {
      "cell_type": "code",
      "execution_count": 32,
      "metadata": {
        "id": "-s7-ImiKd8fi"
      },
      "outputs": [],
      "source": [
        "#####################################################\n",
        "# Import all the tools we need\n",
        "\n",
        "# Regular EDA (exploratory data analysis) and plotting libraries\n",
        "import numpy as np\n",
        "import pandas as pd\n",
        "import matplotlib.pyplot as plt\n",
        "import seaborn as sns\n",
        "\n",
        "# we want our plots to appear inside the notebook\n",
        "%matplotlib inline \n",
        "\n",
        "# Models from Scikit-Learn\n",
        "from sklearn.linear_model import LogisticRegression\n",
        "from sklearn.ensemble import RandomForestClassifier\n",
        "from sklearn.tree import DecisionTreeClassifier\n",
        "\n",
        "# Model Evaluations\n",
        "from sklearn.model_selection import train_test_split, cross_val_score\n",
        "from sklearn.model_selection import RandomizedSearchCV, GridSearchCV\n",
        "from sklearn.metrics import confusion_matrix, classification_report\n",
        "from sklearn.metrics import precision_score, recall_score, f1_score ,accuracy_score\n",
        "from sklearn.metrics import plot_roc_curve\n",
        "from sklearn.model_selection import KFold\n",
        "#####################################################"
      ]
    },
    {
      "cell_type": "code",
      "execution_count": 53,
      "metadata": {
        "id": "CxMrsEH0d_dc"
      },
      "outputs": [
        {
          "data": {
            "text/html": [
              "<div>\n",
              "<style scoped>\n",
              "    .dataframe tbody tr th:only-of-type {\n",
              "        vertical-align: middle;\n",
              "    }\n",
              "\n",
              "    .dataframe tbody tr th {\n",
              "        vertical-align: top;\n",
              "    }\n",
              "\n",
              "    .dataframe thead th {\n",
              "        text-align: right;\n",
              "    }\n",
              "</style>\n",
              "<table border=\"1\" class=\"dataframe\">\n",
              "  <thead>\n",
              "    <tr style=\"text-align: right;\">\n",
              "      <th></th>\n",
              "      <th>Unnamed: 0</th>\n",
              "      <th>Time</th>\n",
              "      <th>V1</th>\n",
              "      <th>V2</th>\n",
              "      <th>V3</th>\n",
              "      <th>V4</th>\n",
              "      <th>V5</th>\n",
              "      <th>V6</th>\n",
              "      <th>V7</th>\n",
              "      <th>V8</th>\n",
              "      <th>...</th>\n",
              "      <th>V21</th>\n",
              "      <th>V22</th>\n",
              "      <th>V23</th>\n",
              "      <th>V24</th>\n",
              "      <th>V25</th>\n",
              "      <th>V26</th>\n",
              "      <th>V27</th>\n",
              "      <th>V28</th>\n",
              "      <th>Amount</th>\n",
              "      <th>Class</th>\n",
              "    </tr>\n",
              "  </thead>\n",
              "  <tbody>\n",
              "    <tr>\n",
              "      <th>0</th>\n",
              "      <td>266085</td>\n",
              "      <td>162183.0</td>\n",
              "      <td>2.049094</td>\n",
              "      <td>0.186189</td>\n",
              "      <td>-1.707198</td>\n",
              "      <td>0.530768</td>\n",
              "      <td>0.160589</td>\n",
              "      <td>-1.448570</td>\n",
              "      <td>0.239310</td>\n",
              "      <td>-0.353611</td>\n",
              "      <td>...</td>\n",
              "      <td>0.197782</td>\n",
              "      <td>0.741141</td>\n",
              "      <td>-0.009744</td>\n",
              "      <td>-0.085057</td>\n",
              "      <td>0.228384</td>\n",
              "      <td>-0.097292</td>\n",
              "      <td>-0.001028</td>\n",
              "      <td>-0.032390</td>\n",
              "      <td>2.99</td>\n",
              "      <td>0</td>\n",
              "    </tr>\n",
              "    <tr>\n",
              "      <th>1</th>\n",
              "      <td>172120</td>\n",
              "      <td>120967.0</td>\n",
              "      <td>2.125540</td>\n",
              "      <td>-0.030714</td>\n",
              "      <td>-1.527653</td>\n",
              "      <td>0.121046</td>\n",
              "      <td>0.543172</td>\n",
              "      <td>-0.347988</td>\n",
              "      <td>0.157221</td>\n",
              "      <td>-0.229126</td>\n",
              "      <td>...</td>\n",
              "      <td>-0.336497</td>\n",
              "      <td>-0.838932</td>\n",
              "      <td>0.275173</td>\n",
              "      <td>0.049145</td>\n",
              "      <td>-0.156765</td>\n",
              "      <td>0.205919</td>\n",
              "      <td>-0.072321</td>\n",
              "      <td>-0.059009</td>\n",
              "      <td>1.98</td>\n",
              "      <td>0</td>\n",
              "    </tr>\n",
              "    <tr>\n",
              "      <th>2</th>\n",
              "      <td>15136</td>\n",
              "      <td>26484.0</td>\n",
              "      <td>-4.155859</td>\n",
              "      <td>-5.705748</td>\n",
              "      <td>0.274699</td>\n",
              "      <td>-0.993262</td>\n",
              "      <td>-6.059393</td>\n",
              "      <td>5.210848</td>\n",
              "      <td>5.811316</td>\n",
              "      <td>0.367888</td>\n",
              "      <td>...</td>\n",
              "      <td>1.371671</td>\n",
              "      <td>1.195815</td>\n",
              "      <td>4.188762</td>\n",
              "      <td>-1.091077</td>\n",
              "      <td>1.033044</td>\n",
              "      <td>0.224493</td>\n",
              "      <td>-0.486741</td>\n",
              "      <td>0.194275</td>\n",
              "      <td>1937.66</td>\n",
              "      <td>0</td>\n",
              "    </tr>\n",
              "    <tr>\n",
              "      <th>3</th>\n",
              "      <td>96393</td>\n",
              "      <td>65751.0</td>\n",
              "      <td>-0.566420</td>\n",
              "      <td>-0.579576</td>\n",
              "      <td>0.823503</td>\n",
              "      <td>-1.451240</td>\n",
              "      <td>-0.583587</td>\n",
              "      <td>0.206381</td>\n",
              "      <td>1.601392</td>\n",
              "      <td>-0.370446</td>\n",
              "      <td>...</td>\n",
              "      <td>-0.065082</td>\n",
              "      <td>-0.761357</td>\n",
              "      <td>0.641524</td>\n",
              "      <td>-0.568974</td>\n",
              "      <td>-0.053164</td>\n",
              "      <td>-0.690995</td>\n",
              "      <td>-0.228630</td>\n",
              "      <td>-0.157254</td>\n",
              "      <td>320.05</td>\n",
              "      <td>0</td>\n",
              "    </tr>\n",
              "    <tr>\n",
              "      <th>4</th>\n",
              "      <td>208225</td>\n",
              "      <td>137025.0</td>\n",
              "      <td>0.060858</td>\n",
              "      <td>-0.261762</td>\n",
              "      <td>-1.699493</td>\n",
              "      <td>-1.202327</td>\n",
              "      <td>3.699527</td>\n",
              "      <td>3.196249</td>\n",
              "      <td>0.437208</td>\n",
              "      <td>0.421541</td>\n",
              "      <td>...</td>\n",
              "      <td>0.008303</td>\n",
              "      <td>0.534602</td>\n",
              "      <td>0.089602</td>\n",
              "      <td>0.667918</td>\n",
              "      <td>0.017798</td>\n",
              "      <td>0.611584</td>\n",
              "      <td>-0.469946</td>\n",
              "      <td>-0.514370</td>\n",
              "      <td>11.50</td>\n",
              "      <td>0</td>\n",
              "    </tr>\n",
              "  </tbody>\n",
              "</table>\n",
              "<p>5 rows × 32 columns</p>\n",
              "</div>"
            ],
            "text/plain": [
              "   Unnamed: 0      Time        V1        V2        V3        V4        V5  \\\n",
              "0      266085  162183.0  2.049094  0.186189 -1.707198  0.530768  0.160589   \n",
              "1      172120  120967.0  2.125540 -0.030714 -1.527653  0.121046  0.543172   \n",
              "2       15136   26484.0 -4.155859 -5.705748  0.274699 -0.993262 -6.059393   \n",
              "3       96393   65751.0 -0.566420 -0.579576  0.823503 -1.451240 -0.583587   \n",
              "4      208225  137025.0  0.060858 -0.261762 -1.699493 -1.202327  3.699527   \n",
              "\n",
              "         V6        V7        V8  ...       V21       V22       V23       V24  \\\n",
              "0 -1.448570  0.239310 -0.353611  ...  0.197782  0.741141 -0.009744 -0.085057   \n",
              "1 -0.347988  0.157221 -0.229126  ... -0.336497 -0.838932  0.275173  0.049145   \n",
              "2  5.210848  5.811316  0.367888  ...  1.371671  1.195815  4.188762 -1.091077   \n",
              "3  0.206381  1.601392 -0.370446  ... -0.065082 -0.761357  0.641524 -0.568974   \n",
              "4  3.196249  0.437208  0.421541  ...  0.008303  0.534602  0.089602  0.667918   \n",
              "\n",
              "        V25       V26       V27       V28   Amount  Class  \n",
              "0  0.228384 -0.097292 -0.001028 -0.032390     2.99      0  \n",
              "1 -0.156765  0.205919 -0.072321 -0.059009     1.98      0  \n",
              "2  1.033044  0.224493 -0.486741  0.194275  1937.66      0  \n",
              "3 -0.053164 -0.690995 -0.228630 -0.157254   320.05      0  \n",
              "4  0.017798  0.611584 -0.469946 -0.514370    11.50      0  \n",
              "\n",
              "[5 rows x 32 columns]"
            ]
          },
          "execution_count": 53,
          "metadata": {},
          "output_type": "execute_result"
        }
      ],
      "source": [
        "#Importing data \n",
        "df1 = pd.read_csv(\"creditcardSubset.csv\")\n",
        "df1.head()\n",
        "### ToDO:\n",
        "## Remove the Time feature\n",
        "## 2 points\n"
      ]
    },
    {
      "cell_type": "code",
      "execution_count": 56,
      "metadata": {},
      "outputs": [],
      "source": [
        "df= df1.drop(columns=['Time','Unnamed: 0'], axis = 1)"
      ]
    },
    {
      "cell_type": "code",
      "execution_count": 17,
      "metadata": {},
      "outputs": [
        {
          "name": "stdout",
          "output_type": "stream",
          "text": [
            "Requirement already satisfied: termcolor in c:\\users\\student\\anaconda3\\lib\\site-packages (2.2.0)\n"
          ]
        },
        {
          "name": "stderr",
          "output_type": "stream",
          "text": [
            "WARNING: Ignoring invalid distribution -ymongo (c:\\users\\student\\anaconda3\\lib\\site-packages)\n",
            "WARNING: Ignoring invalid distribution -ymongo (c:\\users\\student\\anaconda3\\lib\\site-packages)\n",
            "WARNING: Ignoring invalid distribution -ymongo (c:\\users\\student\\anaconda3\\lib\\site-packages)\n",
            "WARNING: Ignoring invalid distribution -ymongo (c:\\users\\student\\anaconda3\\lib\\site-packages)\n",
            "WARNING: Ignoring invalid distribution -ymongo (c:\\users\\student\\anaconda3\\lib\\site-packages)\n",
            "WARNING: Ignoring invalid distribution -ymongo (c:\\users\\student\\anaconda3\\lib\\site-packages)\n"
          ]
        }
      ],
      "source": [
        "!pip install termcolor"
      ]
    },
    {
      "cell_type": "code",
      "execution_count": 57,
      "metadata": {
        "id": "ec2UNEq2eKug"
      },
      "outputs": [
        {
          "name": "stdout",
          "output_type": "stream",
          "text": [
            "CASE COUNT\n",
            "--------------------------------------------\n",
            "Total number of cases are 9021\n",
            "Number of Non-fraud cases are 8529\n",
            "Number of Non-fraud cases are 492\n",
            "Percentage of fraud cases is 5.77\n",
            "--------------------------------------------\n"
          ]
        }
      ],
      "source": [
        "#### Exploratory Data Analysis\n",
        "### ToDO:\n",
        "## 2 points\n",
        "cases = len(df)\n",
        "nonfraud_count = len(df[df.Class == 0])\n",
        "fraud_count = len(df[df.Class ==  1])\n",
        "fraud_percentage = round(fraud_count/nonfraud_count*100, 2)\n",
        "\n",
        "from termcolor import colored as cl # text customization\n",
        "print(cl('CASE COUNT', attrs = ['bold']))\n",
        "print(cl('--------------------------------------------', attrs = ['bold']))\n",
        "print(cl('Total number of cases are {}'.format(cases), attrs = ['bold']))\n",
        "print(cl('Number of Non-fraud cases are {}'.format(nonfraud_count), attrs = ['bold']))\n",
        "print(cl('Number of Non-fraud cases are {}'.format(fraud_count), attrs = ['bold']))\n",
        "print(cl('Percentage of fraud cases is {}'.format(fraud_percentage), attrs = ['bold']))\n",
        "print(cl('--------------------------------------------', attrs = ['bold']))"
      ]
    },
    {
      "cell_type": "code",
      "execution_count": 58,
      "metadata": {
        "id": "fER2G_BxeU7c"
      },
      "outputs": [],
      "source": [
        "###################################################\n",
        "## Training and Testing Data Split\n",
        "X = df.drop('Class', axis = 1).values\n",
        "y = df['Class'].values\n",
        "\n",
        "### ToDO:\n",
        "## 2 points\n",
        "## Use test_size as 0.2\n",
        "X_train, X_test, y_train, y_test = train_test_split( X,  y, test_size =.2 , random_state = 0)"
      ]
    },
    {
      "cell_type": "code",
      "execution_count": 59,
      "metadata": {
        "id": "Qlaj82d9elXM"
      },
      "outputs": [
        {
          "name": "stderr",
          "output_type": "stream",
          "text": [
            "c:\\Users\\student\\anaconda3\\lib\\site-packages\\sklearn\\linear_model\\_logistic.py:814: ConvergenceWarning: lbfgs failed to converge (status=1):\n",
            "STOP: TOTAL NO. of ITERATIONS REACHED LIMIT.\n",
            "\n",
            "Increase the number of iterations (max_iter) or scale the data as shown in:\n",
            "    https://scikit-learn.org/stable/modules/preprocessing.html\n",
            "Please also refer to the documentation for alternative solver options:\n",
            "    https://scikit-learn.org/stable/modules/linear_model.html#logistic-regression\n",
            "  n_iter_i = _check_optimize_result(\n"
          ]
        }
      ],
      "source": [
        "## Model Fitting Process\n",
        "# Fit a  Logistic Regression as baseline\n",
        "# once fit the model, make predictions using\n",
        "# testing dataset X_test\n",
        "### ToDO:\n",
        "## 3 points\n",
        "lr = LogisticRegression()\n",
        "lr.fit(X_train ,y_train )\n",
        "lr_ypred = lr.predict(X_test)"
      ]
    },
    {
      "cell_type": "code",
      "execution_count": 60,
      "metadata": {
        "id": "iWJISAzxe4Be"
      },
      "outputs": [],
      "source": [
        "## Model Fitting Process\n",
        "# Fit a Decision Tree Model\n",
        "# once fit the model, make predictions using\n",
        "# testing dataset X_test\n",
        "### ToDO:\n",
        "## 3 points\n",
        "## use criterion=\"gini\"\n",
        "tree_model = DecisionTreeClassifier()\n",
        "tree_model.fit(X_train,y_train)\n",
        "tree_ypred = tree_model.predict(X_test)"
      ]
    },
    {
      "cell_type": "code",
      "execution_count": 61,
      "metadata": {
        "id": "DznlOlRefCpU"
      },
      "outputs": [],
      "source": [
        "## Fit a Random Forest and make predictions using X_test\n",
        "### ToDO:\n",
        "## 3 points\n",
        "from sklearn.ensemble import RandomForestClassifier # Random forest tree algorithm\n",
        "rf = RandomForestClassifier()\n",
        "rf.fit(X_train,y_train)\n",
        "rf_ypred = rf.predict(X_test)"
      ]
    },
    {
      "cell_type": "code",
      "execution_count": 62,
      "metadata": {
        "id": "DbwgJDMUfQ2E"
      },
      "outputs": [],
      "source": [
        "### Model Evaluation Process\n",
        "### Using Classification Report\n",
        "from sklearn.metrics import classification_report\n",
        "#print(classification_report(y_test, tree_ypred))\n",
        "## To learn about ROC and AUC, you can read\n",
        "## the tutorial here: \n",
        "## https://developers.google.com/machine-learning/crash-course/classification/roc-and-auc\n",
        "\n",
        "### Using Confusion Matrix\n",
        "# helper function\n",
        "## add true and predicted in the x and y axis\n",
        "def plot_confusionmatrix(y_train_pred,y_train,dom, classes):\n",
        "    print(f'{dom} Confusion matrix')\n",
        "    cf = confusion_matrix(y_train,y_train_pred)\n",
        "    sns.heatmap(cf,annot=True,yticklabels=classes\n",
        "               ,xticklabels=classes,cmap='Blues', fmt='g')\n",
        "    plt.ylabel(\"True label\")\n",
        "    plt.xlabel(\"Predicted label\")\n",
        "    plt.tight_layout()\n",
        "    plt.show()"
      ]
    },
    {
      "cell_type": "code",
      "execution_count": 63,
      "metadata": {
        "id": "utreXyxKfVhH"
      },
      "outputs": [
        {
          "name": "stdout",
          "output_type": "stream",
          "text": [
            "              precision    recall  f1-score   support\n",
            "\n",
            "   Not Fraud       0.99      1.00      0.99      1700\n",
            "       Fraud       0.99      0.82      0.90       105\n",
            "\n",
            "    accuracy                           0.99      1805\n",
            "   macro avg       0.99      0.91      0.94      1805\n",
            "weighted avg       0.99      0.99      0.99      1805\n",
            "\n",
            "Test Confusion matrix\n"
          ]
        },
        {
          "data": {
            "image/png": "[encoded data removed]",
            "text/plain": [
              "<Figure size 432x288 with 2 Axes>"
            ]
          },
          "metadata": {
            "needs_background": "light"
          },
          "output_type": "display_data"
        },
        {
          "name": "stderr",
          "output_type": "stream",
          "text": [
            "c:\\Users\\student\\anaconda3\\lib\\site-packages\\sklearn\\utils\\deprecation.py:87: FutureWarning: Function plot_roc_curve is deprecated; Function :func:`plot_roc_curve` is deprecated in 1.0 and will be removed in 1.2. Use one of the class methods: :meth:`sklearn.metric.RocCurveDisplay.from_predictions` or :meth:`sklearn.metric.RocCurveDisplay.from_estimator`.\n",
            "  warnings.warn(msg, category=FutureWarning)\n"
          ]
        },
        {
          "data": {
            "text/plain": [
              "<sklearn.metrics._plot.roc_curve.RocCurveDisplay at 0x1c5b48ae610>"
            ]
          },
          "execution_count": 63,
          "metadata": {},
          "output_type": "execute_result"
        },
        {
          "data": {
            "image/png": "[encoded data removed]",
            "text/plain": [
              "<Figure size 432x288 with 1 Axes>"
            ]
          },
          "metadata": {
            "needs_background": "light"
          },
          "output_type": "display_data"
        }
      ],
      "source": [
        "## Evaluate baseline Logistic Regression Model\n",
        "classes =['Not Fraud', 'Fraud']\n",
        "### ToDO: \n",
        "### 3 points\n",
        "\n",
        "## get classification_report for the logistic regression\n",
        "## predictions with the ground truth label for the testing dataset \n",
        "print(classification_report(y_test, lr_ypred, target_names=classes))\n",
        "\n",
        "### plot the confusion matrix of the prediction labels with the\n",
        "### ground truth label for the testing dataset\n",
        "plot_confusionmatrix(lr_ypred,y_test,dom='Test',classes=classes)\n",
        "plot_roc_curve(lr,X_test,y_test)\n"
      ]
    },
    {
      "cell_type": "code",
      "execution_count": 64,
      "metadata": {
        "id": "ySUIdr9OfYgr"
      },
      "outputs": [
        {
          "name": "stdout",
          "output_type": "stream",
          "text": [
            "              precision    recall  f1-score   support\n",
            "\n",
            "   Not Fraud       0.99      0.99      0.99      1700\n",
            "       Fraud       0.84      0.83      0.84       105\n",
            "\n",
            "    accuracy                           0.98      1805\n",
            "   macro avg       0.92      0.91      0.91      1805\n",
            "weighted avg       0.98      0.98      0.98      1805\n",
            "\n",
            "Test Confusion matrix\n"
          ]
        },
        {
          "data": {
            "image/png": "[encoded data removed]",
            "text/plain": [
              "<Figure size 432x288 with 2 Axes>"
            ]
          },
          "metadata": {
            "needs_background": "light"
          },
          "output_type": "display_data"
        },
        {
          "name": "stderr",
          "output_type": "stream",
          "text": [
            "c:\\Users\\student\\anaconda3\\lib\\site-packages\\sklearn\\utils\\deprecation.py:87: FutureWarning: Function plot_roc_curve is deprecated; Function :func:`plot_roc_curve` is deprecated in 1.0 and will be removed in 1.2. Use one of the class methods: :meth:`sklearn.metric.RocCurveDisplay.from_predictions` or :meth:`sklearn.metric.RocCurveDisplay.from_estimator`.\n",
            "  warnings.warn(msg, category=FutureWarning)\n"
          ]
        },
        {
          "data": {
            "text/plain": [
              "<sklearn.metrics._plot.roc_curve.RocCurveDisplay at 0x1c5b4a6af70>"
            ]
          },
          "execution_count": 64,
          "metadata": {},
          "output_type": "execute_result"
        },
        {
          "data": {
            "image/png": "[encoded data removed]",
            "text/plain": [
              "<Figure size 432x288 with 1 Axes>"
            ]
          },
          "metadata": {
            "needs_background": "light"
          },
          "output_type": "display_data"
        }
      ],
      "source": [
        "### ToDO:\n",
        "## 3 points\n",
        "## Evaluate Decision Tree Model for classification\n",
        "## using classification_report()\n",
        "## using plot_confusionmatrix\n",
        "## Using plot_roc_curve\n",
        "from sklearn.metrics import plot_roc_curve \n",
        "print(classification_report(y_test, tree_ypred, target_names=classes))\n",
        "plot_confusionmatrix(tree_ypred,y_test,dom='Test',classes=classes)\n",
        "plot_roc_curve(tree_model,X_test,y_test)\n"
      ]
    },
    {
      "cell_type": "code",
      "execution_count": 65,
      "metadata": {
        "id": "aIWCkXe2fm6D"
      },
      "outputs": [
        {
          "name": "stdout",
          "output_type": "stream",
          "text": [
            "              precision    recall  f1-score   support\n",
            "\n",
            "   Not Fraud       0.99      1.00      0.99      1700\n",
            "       Fraud       1.00      0.82      0.90       105\n",
            "\n",
            "    accuracy                           0.99      1805\n",
            "   macro avg       0.99      0.91      0.95      1805\n",
            "weighted avg       0.99      0.99      0.99      1805\n",
            "\n",
            "Test Confusion matrix\n"
          ]
        },
        {
          "data": {
            "image/png": "[encoded data removed]",
            "text/plain": [
              "<Figure size 432x288 with 2 Axes>"
            ]
          },
          "metadata": {
            "needs_background": "light"
          },
          "output_type": "display_data"
        },
        {
          "name": "stderr",
          "output_type": "stream",
          "text": [
            "c:\\Users\\student\\anaconda3\\lib\\site-packages\\sklearn\\utils\\deprecation.py:87: FutureWarning: Function plot_roc_curve is deprecated; Function :func:`plot_roc_curve` is deprecated in 1.0 and will be removed in 1.2. Use one of the class methods: :meth:`sklearn.metric.RocCurveDisplay.from_predictions` or :meth:`sklearn.metric.RocCurveDisplay.from_estimator`.\n",
            "  warnings.warn(msg, category=FutureWarning)\n"
          ]
        },
        {
          "data": {
            "text/plain": [
              "<sklearn.metrics._plot.roc_curve.RocCurveDisplay at 0x1c5afecc100>"
            ]
          },
          "execution_count": 65,
          "metadata": {},
          "output_type": "execute_result"
        },
        {
          "data": {
            "image/png": "[encoded data removed]",
            "text/plain": [
              "<Figure size 432x288 with 1 Axes>"
            ]
          },
          "metadata": {
            "needs_background": "light"
          },
          "output_type": "display_data"
        }
      ],
      "source": [
        "### ToDO:\n",
        "## 3 points\n",
        "## Evaluate Random Forest Model for classification\n",
        "## using classification_report()\n",
        "## using plot_confusionmatrix\n",
        "## Using plot_roc_curve\n",
        "print(classification_report(y_test, rf_ypred, target_names=classes))\n",
        "plot_confusionmatrix(rf_ypred,y_test,dom='Test',classes=classes)\n",
        "plot_roc_curve(rf,X_test,y_test)\n"
      ]
    },
    {
      "cell_type": "code",
      "execution_count": 66,
      "metadata": {
        "id": "KkyPFS9Yfw8u"
      },
      "outputs": [
        {
          "name": "stdout",
          "output_type": "stream",
          "text": [
            "Fitting 2 folds for each of 2 candidates, totalling 4 fits\n",
            "              precision    recall  f1-score   support\n",
            "\n",
            "   Not Fraud       0.99      1.00      0.99      1700\n",
            "       Fraud       0.94      0.83      0.88       105\n",
            "\n",
            "    accuracy                           0.99      1805\n",
            "   macro avg       0.96      0.91      0.94      1805\n",
            "weighted avg       0.99      0.99      0.99      1805\n",
            "\n",
            "Test Confusion matrix\n"
          ]
        },
        {
          "data": {
            "image/png": "[encoded data removed]",
            "text/plain": [
              "<Figure size 432x288 with 2 Axes>"
            ]
          },
          "metadata": {
            "needs_background": "light"
          },
          "output_type": "display_data"
        },
        {
          "name": "stderr",
          "output_type": "stream",
          "text": [
            "c:\\Users\\student\\anaconda3\\lib\\site-packages\\sklearn\\utils\\deprecation.py:87: FutureWarning: Function plot_roc_curve is deprecated; Function :func:`plot_roc_curve` is deprecated in 1.0 and will be removed in 1.2. Use one of the class methods: :meth:`sklearn.metric.RocCurveDisplay.from_predictions` or :meth:`sklearn.metric.RocCurveDisplay.from_estimator`.\n",
            "  warnings.warn(msg, category=FutureWarning)\n"
          ]
        },
        {
          "data": {
            "text/plain": [
              "<sklearn.metrics._plot.roc_curve.RocCurveDisplay at 0x1c5b148b2e0>"
            ]
          },
          "execution_count": 66,
          "metadata": {},
          "output_type": "execute_result"
        },
        {
          "data": {
            "image/png": "[encoded data removed]",
            "text/plain": [
              "<Figure size 432x288 with 1 Axes>"
            ]
          },
          "metadata": {
            "needs_background": "light"
          },
          "output_type": "display_data"
        }
      ],
      "source": [
        "### Fine-Tune Random Forest\n",
        "# Create a hyperparameter grid for RandomForestClassifier\n",
        "rf_grid = {\"n_estimators\": np.arange(10, 1000, 50),\n",
        "           \"max_depth\": [None, 3, 5, 10],\n",
        "           \"min_samples_split\": np.arange(2, 20, 2),\n",
        "           \"min_samples_leaf\": np.arange(1, 20, 2)}\n",
        "\n",
        "class_weight=dict({0:1,1:100})\n",
        "\n",
        "np.random.seed(42)\n",
        "\n",
        "## ToDO:\n",
        "## 6 points\n",
        "# Setup random hyperparameter search for RandomForestClassifier\n",
        "rs_rf = RandomizedSearchCV(RandomForestClassifier(class_weight=class_weight), \n",
        "                           param_distributions=rf_grid,\n",
        "                           cv=2,\n",
        "                           n_iter=2,\n",
        "                           verbose=True)\n",
        "\n",
        "# Fit random hyperparameter search model for RandomForestClassifier()\n",
        "rs_rf.fit(X_train,y_train)\n",
        "\n",
        "# Make predictions with tuned model\n",
        "rfy_test_pred = rs_rf.predict(X_test)\n",
        "\n",
        "# Evaluate the randomized search RandomForestClassifier model\n",
        "print(classification_report(y_test, rfy_test_pred, target_names=classes))\n",
        "plot_confusionmatrix(rfy_test_pred,y_test,dom='Test',classes=classes)\n",
        "plot_roc_curve(rs_rf,X_test,y_test)\n",
        "\n"
      ]
    },
    {
      "cell_type": "code",
      "execution_count": 67,
      "metadata": {
        "id": "zfxMwhCmyRbK"
      },
      "outputs": [
        {
          "data": {
            "image/png": "[encoded data removed]",
            "text/plain": [
              "<Figure size 432x288 with 1 Axes>"
            ]
          },
          "metadata": {
            "needs_background": "light"
          },
          "output_type": "display_data"
        }
      ],
      "source": [
        "## ToDo: 5 points\n",
        "## Use the best model from the cross-validation process \n",
        "## to fit the training data and \n",
        "## create Feature Importance Plot\n",
        "features = [\"V1\",\"V2\",\"V3\",\"V4\",\"V5\", \"V6\", \"V7\", \"V8\",\n",
        "\"V9\",\"V10\",\"V11\",\"V12\",\"V13\", \"V14\",\n",
        "\"V15\", \"V16\",\"V17\",\"V18\",\"V19\",\"V20\",\n",
        "\"V21\", \"V22\", \"V23\", \"V24\", \"V25\", \"V26\",\n",
        "\"V27\",\"V28\",\"Amount\"]\n",
        "\n",
        "bestParams = rs_rf.best_params_\n",
        "rs_rfbest = RandomForestClassifier(**bestParams)\n",
        "rs_rfbest.fit(X_train, y_train)\n",
        "rfy_test_pred = rs_rfbest.predict(X_test)\n",
        "\n",
        "#print(rs_rfbest.feature_importances_)\n",
        "\n",
        "featImp = pd.DataFrame({'Feature':features,'Feature Importance': rs_rfbest.feature_importances_})\n",
        "\n",
        "featImp.sort_values('Feature Importance', ascending=False, inplace=True)\n",
        "featImp.plot.bar(x = 'Feature', y = 'Feature Importance')\n",
        "plt.xlabel('Feature')\n",
        "plt.ylabel('Feature Importance')\n",
        "plt.title('Feature Importance Plot for Random Forest')\n",
        "plt.show()\n",
        "\n"
      ]
    },
    {
      "cell_type": "code",
      "execution_count": 50,
      "metadata": {},
      "outputs": [
        {
          "name": "stdout",
          "output_type": "stream",
          "text": [
            "Collecting imblearn\n",
            "  Downloading imblearn-0.0-py2.py3-none-any.whl (1.9 kB)\n",
            "Collecting imbalanced-learn\n",
            "  Downloading imbalanced_learn-0.10.1-py3-none-any.whl (226 kB)\n",
            "Collecting joblib>=1.1.1\n",
            "  Downloading joblib-1.2.0-py3-none-any.whl (297 kB)\n",
            "Requirement already satisfied: scikit-learn>=1.0.2 in c:\\users\\student\\anaconda3\\lib\\site-packages (from imbalanced-learn->imblearn) (1.0.2)\n",
            "Requirement already satisfied: numpy>=1.17.3 in c:\\users\\student\\anaconda3\\lib\\site-packages (from imbalanced-learn->imblearn) (1.21.5)\n",
            "Requirement already satisfied: threadpoolctl>=2.0.0 in c:\\users\\student\\anaconda3\\lib\\site-packages (from imbalanced-learn->imblearn) (2.2.0)\n",
            "Requirement already satisfied: scipy>=1.3.2 in c:\\users\\student\\anaconda3\\lib\\site-packages (from imbalanced-learn->imblearn) (1.7.3)\n",
            "Installing collected packages: joblib, imbalanced-learn, imblearn\n",
            "  Attempting uninstall: joblib\n",
            "    Found existing installation: joblib 1.1.0\n",
            "    Uninstalling joblib-1.1.0:\n",
            "      Successfully uninstalled joblib-1.1.0\n",
            "Successfully installed imbalanced-learn-0.10.1 imblearn-0.0 joblib-1.2.0\n"
          ]
        },
        {
          "name": "stderr",
          "output_type": "stream",
          "text": [
            "WARNING: Ignoring invalid distribution -ymongo (c:\\users\\student\\anaconda3\\lib\\site-packages)\n",
            "WARNING: Ignoring invalid distribution -ymongo (c:\\users\\student\\anaconda3\\lib\\site-packages)\n",
            "WARNING: Ignoring invalid distribution -ymongo (c:\\users\\student\\anaconda3\\lib\\site-packages)\n",
            "    WARNING: Ignoring invalid distribution -ymongo (c:\\users\\student\\anaconda3\\lib\\site-packages)\n",
            "WARNING: Ignoring invalid distribution -ymongo (c:\\users\\student\\anaconda3\\lib\\site-packages)\n",
            "WARNING: Ignoring invalid distribution -ymongo (c:\\users\\student\\anaconda3\\lib\\site-packages)\n",
            "WARNING: Ignoring invalid distribution -ymongo (c:\\users\\student\\anaconda3\\lib\\site-packages)\n",
            "WARNING: Ignoring invalid distribution -ymongo (c:\\users\\student\\anaconda3\\lib\\site-packages)\n",
            "WARNING: Ignoring invalid distribution -ymongo (c:\\users\\student\\anaconda3\\lib\\site-packages)\n",
            "WARNING: Ignoring invalid distribution -ymongo (c:\\users\\student\\anaconda3\\lib\\site-packages)\n"
          ]
        }
      ],
      "source": [
        "!pip install imblearn"
      ]
    },
    {
      "cell_type": "code",
      "execution_count": 71,
      "metadata": {
        "id": "KY7niDoWgQlw"
      },
      "outputs": [
        {
          "name": "stdout",
          "output_type": "stream",
          "text": [
            "The number of classes before fit Counter({0: 6829, 1: 387})\n",
            "The number of classes after fit Counter({0: 6829, 1: 5121})\n",
            "              precision    recall  f1-score   support\n",
            "\n",
            "           0       0.99      1.00      0.99      1700\n",
            "           1       0.99      0.84      0.91       105\n",
            "\n",
            "    accuracy                           0.99      1805\n",
            "   macro avg       0.99      0.92      0.95      1805\n",
            "weighted avg       0.99      0.99      0.99      1805\n",
            "\n",
            "Test Confusion matrix\n"
          ]
        },
        {
          "data": {
            "image/png": "[encoded data removed]",
            "text/plain": [
              "<Figure size 432x288 with 2 Axes>"
            ]
          },
          "metadata": {
            "needs_background": "light"
          },
          "output_type": "display_data"
        },
        {
          "name": "stderr",
          "output_type": "stream",
          "text": [
            "c:\\Users\\student\\anaconda3\\lib\\site-packages\\sklearn\\utils\\deprecation.py:87: FutureWarning: Function plot_roc_curve is deprecated; Function :func:`plot_roc_curve` is deprecated in 1.0 and will be removed in 1.2. Use one of the class methods: :meth:`sklearn.metric.RocCurveDisplay.from_predictions` or :meth:`sklearn.metric.RocCurveDisplay.from_estimator`.\n",
            "  warnings.warn(msg, category=FutureWarning)\n"
          ]
        },
        {
          "data": {
            "text/plain": [
              "<sklearn.metrics._plot.roc_curve.RocCurveDisplay at 0x1c5a9f77250>"
            ]
          },
          "execution_count": 71,
          "metadata": {},
          "output_type": "execute_result"
        },
        {
          "data": {
            "image/png": "[encoded data removed]",
            "text/plain": [
              "<Figure size 432x288 with 1 Axes>"
            ]
          },
          "metadata": {
            "needs_background": "light"
          },
          "output_type": "display_data"
        }
      ],
      "source": [
        "## Fit a Random Forest with SMOTE method to deal with\n",
        "## imbalanced dataset\n",
        "## SMOTE technique with random forest\n",
        "from imblearn.over_sampling import SMOTE\n",
        "from collections import Counter\n",
        "os=SMOTE(sampling_strategy=0.75)\n",
        "X_train_ns,y_train_ns=os.fit_resample(X_train,y_train)\n",
        "print(\"The number of classes before fit {}\".format(Counter(y_train)))\n",
        "print(\"The number of classes after fit {}\".format(Counter(y_train_ns)))\n",
        "\n",
        "classifier=RandomForestClassifier()\n",
        "classifier.fit(X_train_ns,y_train_ns)\n",
        "\n",
        "rfs_ypred=classifier.predict(X_test)\n",
        "print(classification_report(y_test, rfs_ypred))\n",
        "plot_confusionmatrix(rfs_ypred,y_test,dom='Test', classes=classes)\n",
        "plot_roc_curve(classifier, X_test, y_test)"
      ]
    },
    {
      "cell_type": "code",
      "execution_count": null,
      "metadata": {},
      "outputs": [],
      "source": []
    }
  ],
  "metadata": {
    "colab": {
      "provenance": []
    },
    "kernelspec": {
      "display_name": "Python 3",
      "name": "python3"
    },
    "language_info": {
      "codemirror_mode": {
        "name": "ipython",
        "version": 3
      },
      "file_extension": ".py",
      "mimetype": "text/x-python",
      "name": "python",
      "nbconvert_exporter": "python",
      "pygments_lexer": "ipython3",
      "version": "3.9.12"
    }
  },
  "nbformat": 4,
  "nbformat_minor": 0
}
