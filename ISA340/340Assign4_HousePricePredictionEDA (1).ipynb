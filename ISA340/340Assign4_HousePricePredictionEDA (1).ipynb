{
  "cells": [
    {
      "cell_type": "markdown",
      "metadata": {
        "id": "1iDSELjyiApC"
      },
      "source": [
        "# Assignment 2 \n",
        "\n",
        "This assignment mainly enhance your Exploratory Data Analysis Skills. The total mark for this assignment is 40. Answer the questions in the code chrunk and \n",
        "fill up the missing part of the code. "
      ]
    },
    {
      "cell_type": "code",
      "execution_count": null,
      "metadata": {
        "id": "Ki7O5-nNE4My"
      },
      "outputs": [],
      "source": [
        "import pandas as pd\n",
        "import numpy as np\n",
        "import matplotlib.pyplot as plt\n",
        "import seaborn as sns\n",
        "from scipy.stats import boxcox \n",
        "from sklearn.metrics import r2_score\n",
        "from sklearn.metrics import mean_squared_error\n",
        "from sklearn.linear_model import Ridge, Lasso\n",
        "from scipy.special import inv_boxcox\n",
        "from sklearn.model_selection import GridSearchCV, KFold\n",
        "from sklearn.preprocessing import StandardScaler\n",
        "import warnings\n",
        "warnings.filterwarnings(\"ignore\")"
      ]
    },
    {
      "cell_type": "code",
      "execution_count": null,
      "metadata": {
        "id": "rINIG7IFE-96"
      },
      "outputs": [],
      "source": [
        "## read the datset from your local drive\n",
        "from google.colab import files\n",
        "upload = files.upload()"
      ]
    },
    {
      "cell_type": "code",
      "execution_count": null,
      "metadata": {
        "id": "Ysoo_6-1FGeu"
      },
      "outputs": [],
      "source": [
        "## upload the dataset\n",
        "import pandas as pd\n",
        "df = pd.read_csv('train.csv')"
      ]
    },
    {
      "cell_type": "code",
      "execution_count": null,
      "metadata": {
        "id": "cJ_KZeBzFIRK"
      },
      "outputs": [],
      "source": [
        "## functions that you can use to learn your dataset \n",
        "df.head(5)\n",
        "df.info()\n",
        "df.describe()"
      ]
    },
    {
      "cell_type": "code",
      "execution_count": null,
      "metadata": {
        "id": "fa4mT3YWFXut"
      },
      "outputs": [],
      "source": [
        "#####################################################################\n",
        "### Exploratory Data Analysis #######################################\n",
        "# 1. ToDo ###########################################################\n",
        "#### Answer: Why do I separate continuous and categorical features?\n",
        "# 1 point\n",
        "#####################################################################\n",
        "# Creating dataframe for numeric and categorical features separately \n",
        "# make a note of the select_dtypes() function, very useful\n",
        "numeric_df = df.select_dtypes(include=['int64', 'float64'])\n",
        "categorical_df = df.select_dtypes(include=['object'])"
      ]
    },
    {
      "cell_type": "code",
      "execution_count": null,
      "metadata": {
        "id": "5MzFnaXcGGiN"
      },
      "outputs": [],
      "source": [
        "############ToDo####################################################\n",
        "## 1 points\n",
        "## find out the feature names of the continuous and categorical var \n",
        "## find out the dimension of numeric_df and categorical_df\n",
        "\n",
        "\n",
        "\n"
      ]
    },
    {
      "cell_type": "code",
      "execution_count": null,
      "metadata": {
        "id": "yyG5LAKpGmsA"
      },
      "outputs": [],
      "source": [
        "######## In linear regression ######################################\n",
        "## 6 points\n",
        "### for continuous variables, what should I check first?\n",
        "### Last time we mentioned that two situations will lead to fitting\n",
        "### problems for LR, what are they?\n",
        "### 1.     \n",
        "### 2. \n",
        "### How to check 1 ?  What visualization technique can you use?\n",
        "## Use the visualiation technique to create this graph\n",
        "\n",
        "### Answer my previous question and write down the code below\n",
        "plt.figure(figsize=(25,16))\n",
        "## fill out the misssing code here \n",
        "\n",
        "plt.show()"
      ]
    },
    {
      "cell_type": "code",
      "execution_count": null,
      "metadata": {
        "id": "JzlPiBSdQy-j"
      },
      "outputs": [],
      "source": [
        "# How to show pairs with correlation bigger than 0.7 in heat map\n",
        "correlation = numeric_df.corr()\n",
        "\n",
        "kot = correlation[correlation>=.8]\n",
        "plt.figure(figsize=(12,8))\n",
        "sns.heatmap(kot, cmap=\"Reds\", annot = True)\n",
        "plt.show()"
      ]
    },
    {
      "cell_type": "code",
      "execution_count": null,
      "metadata": {
        "id": "0PHeyR-MHUnC"
      },
      "outputs": [],
      "source": [
        "############ToDo###################################################\n",
        "## 3 points\n",
        "## What information can you learn from the plot?\n",
        "## Which pairs of variables demonstrate high correlation?\n",
        "## \n",
        "\n",
        "\n",
        "\n",
        "\n",
        "## What should we do about them?  Should we keep them or remove them?"
      ]
    },
    {
      "cell_type": "code",
      "execution_count": null,
      "metadata": {
        "id": "OAdp8pF1IN7W"
      },
      "outputs": [],
      "source": [
        "###################################################################\n",
        "##### Univariate Data Analysis ####################################\n",
        "fig=plt.subplots(figsize=(12, 21))\n",
        "i=0\n",
        "for feature in numeric_df.columns:\n",
        "    if feature not in ['Id', 'SalePrice']:\n",
        "        i+=1\n",
        "        plt.subplot(13, 3, i)\n",
        "        sns.distplot(df[feature])\n",
        "        plt.tight_layout()"
      ]
    },
    {
      "cell_type": "markdown",
      "metadata": {
        "id": "Xto8sGLeIyJH"
      },
      "source": [
        "# 5 points\n",
        "\n",
        "# What can you learn from the plot?\n",
        "\n",
        "# Are they are continuous variables?\n",
        "\n",
        "# If not, which ones are categorical variables?\n",
        "\n",
        "# Do you find some variables that only have one unique value?\n",
        "\n",
        "# Are there any potential problems with this when you fit linear regression\n",
        "\n"
      ]
    },
    {
      "cell_type": "code",
      "execution_count": null,
      "metadata": {
        "id": "JfJC0gZxKFnM"
      },
      "outputs": [],
      "source": [
        "## ToDO #############################################################\n",
        "## Answer the below questions and fill up the code\n",
        "## 6 points\n",
        "######### How to find if each univariate variable has strong correlation with\n",
        "######### the target variable?\n",
        "### What visualization technique should you use to explore this?\n",
        "### create the plot here \n",
        "\n",
        "fig=plt.subplots(figsize=(12, 21))\n",
        "i=0\n",
        "for feature in numeric_df.columns:\n",
        "    if feature not in ['Id', 'SalePrice']:\n",
        "        i+=1\n",
        "        plt.subplot(13, 3, i)\n",
        "        ## fill out the misssing code here \n",
        "       \n",
        "\n",
        "        plt.tight_layout()"
      ]
    },
    {
      "cell_type": "code",
      "execution_count": null,
      "metadata": {
        "id": "oBZv4oRmLB9M"
      },
      "outputs": [],
      "source": [
        "#######ToDo###################################################\n",
        "## 6 points\n",
        "## Fill up the code and answer the questions \"What can you learn from the graph\"\n",
        "### Since there are categorical variable in the scatter plot,\n",
        "### To learn the relationship between the categorical variable and the target\n",
        "### Which visualization technique is more appropriate other than the plot we use\n",
        "### in the previous code chrunk\n",
        "###['MSSubClass','OverallQual','OverallCond','MoSold','YrSold','BsmtFullBath','FullBath','HalfBath','BedroomAbvGr','TotRmsAbvGrd','Fireplaces']\n",
        "\n",
        "fig=plt.subplots(figsize=(12, 12))\n",
        "\n",
        "for i, feature in enumerate(['MSSubClass','OverallQual','OverallCond','MoSold','YrSold','BsmtFullBath','FullBath','HalfBath','BedroomAbvGr','TotRmsAbvGrd','Fireplaces']):\n",
        "    plt.subplot(6, 3, i+1)\n",
        "    ## Which graph should I use\n",
        "    ## fill up the code below\n",
        "\n",
        "    plt.tight_layout()\n",
        "\n",
        "### What can you learn from the graph?\n",
        "### 1. 'OverallQual' \n",
        "### 2. 'OverallCond'\n",
        "### 3. 'MoSold' and 'YrSold':\n",
        "### 4. 'FullBath' = 3 and 'HalfBath' = 1 \n",
        "### 5. 'TotRmsAbvGrd' "
      ]
    },
    {
      "cell_type": "code",
      "execution_count": null,
      "metadata": {
        "id": "EyZYflKzNKr-"
      },
      "outputs": [],
      "source": [
        "# Converting the year related features into number of years\n",
        "for feature in ['GarageYrBlt','YearBuilt','YearRemodAdd', 'YrSold']:\n",
        "    df[feature] = 2022 - df[feature]"
      ]
    },
    {
      "cell_type": "code",
      "execution_count": null,
      "metadata": {
        "id": "vyuHgYmeNoB9"
      },
      "outputs": [],
      "source": [
        "### Find the categorical variable names\n",
        "categorical_df.columns.sort_values()"
      ]
    },
    {
      "cell_type": "code",
      "execution_count": null,
      "metadata": {
        "id": "bb2UMHxSNyf1"
      },
      "outputs": [],
      "source": [
        "### So many variables, can I put some of the variables into different subclasses?\n",
        "bsmt_df = categorical_df[['BsmtCond', 'BsmtExposure', 'BsmtFinType1','BsmtFinType2', 'BsmtQual']]\n",
        "garage_df = categorical_df[['GarageCond','GarageFinish', 'GarageQual', 'GarageType']]\n",
        "sale_df = categorical_df[['SaleCondition', 'SaleType']]\n",
        "exterior_df = categorical_df[['ExterCond', 'ExterQual', 'Exterior1st', 'Exterior2nd']]\n",
        "heating_df = categorical_df[['Heating', 'HeatingQC','Electrical','FireplaceQu']]\n",
        "land_df = categorical_df[['LandContour', 'LandSlope', 'Street', 'Alley','PavedDrive', 'Fence']]"
      ]
    },
    {
      "cell_type": "code",
      "execution_count": null,
      "metadata": {
        "id": "kcpFziJKOVS9"
      },
      "outputs": [],
      "source": [
        "##########ToDO##################################################################\n",
        "## 6 points\n",
        "## fill up the code and answer the question below\n",
        "fig=plt.subplots(figsize=(10, 10))\n",
        "\n",
        "for i,col in enumerate(bsmt_df.columns):\n",
        "    plt.subplot(3, 2, i+1)\n",
        "\n",
        "    ## fill up the code below\n",
        "    \n",
        "    plt.tight_layout()    \n",
        "\n",
        "#### What can we learn from the characteristics of the basements in all the houses?\n",
        "#### Answer this question\n",
        "#### If you do not understand the meaning of the variable, check up your data \n",
        "#### dictionary.\n",
        "\n",
        "\n"
      ]
    },
    {
      "cell_type": "code",
      "execution_count": null,
      "metadata": {
        "id": "JqnfLfrsOdIm"
      },
      "outputs": [],
      "source": [
        "### ToDO ###########################################################################\n",
        "#### Fill up the code below and anser the questions\n",
        "#### 6 points\n",
        "### How do you examine the relationship between sale price and all basedment related variables?\n",
        "### Which data visualization technique is appropriate?\n",
        "\n",
        "fig=plt.subplots(figsize=(10,10))\n",
        "\n",
        "for i,col in enumerate(bsmt_df.columns):\n",
        "    plt.subplot(3, 2, i+1)\n",
        "    ## fill up the code here \n",
        "\n",
        "\n",
        "    plt.tight_layout()"
      ]
    },
    {
      "cell_type": "markdown",
      "metadata": {
        "id": "WiuNzqMdUVu-"
      },
      "source": [
        "\n",
        "\n"
      ]
    }
  ],
  "metadata": {
    "colab": {
      "provenance": []
    },
    "kernelspec": {
      "display_name": "base",
      "language": "python",
      "name": "python3"
    },
    "language_info": {
      "name": "python",
      "version": "3.9.12"
    },
    "vscode": {
      "interpreter": {
        "hash": "260f019dbdd165b2a66e5fc9588a8f81e21ca9655b1d8c64e54a883dbdaf6a75"
      }
    }
  },
  "nbformat": 4,
  "nbformat_minor": 0
}
